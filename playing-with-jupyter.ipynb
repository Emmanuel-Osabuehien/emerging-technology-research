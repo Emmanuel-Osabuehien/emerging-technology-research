{
 "cells": [
  {
   "cell_type": "code",
   "execution_count": 1,
   "id": "c2ace9cc-36b6-4164-9d24-05954027bd80",
   "metadata": {},
   "outputs": [],
   "source": [
    "i = 1\n",
    "j = 2\n",
    "k = i + j"
   ]
  },
  {
   "cell_type": "code",
   "execution_count": 2,
   "id": "a6fbb193-f5f4-4cff-82ce-19acaef54989",
   "metadata": {},
   "outputs": [
    {
     "data": {
      "text/plain": [
       "3"
      ]
     },
     "execution_count": 2,
     "metadata": {},
     "output_type": "execute_result"
    }
   ],
   "source": [
    "k"
   ]
  },
  {
   "cell_type": "markdown",
   "id": "35c323a0-a895-498e-bef3-941e58b337bf",
   "metadata": {},
   "source": [
    "# This is a Markdown Heading\n",
    "\n",
    "**Bold Text**\n",
    "\n",
    "- List 1\n",
    "- List 2\n",
    "- List 3\n",
    "\n",
    "![](https://www.gmit.ie/sites/default/files/public/styles/advert/public/images/home/feature-box-springboard.jpg?itok=awsAFrjx)"
   ]
  },
  {
   "cell_type": "code",
   "execution_count": null,
   "id": "d8ef44b4-8842-4bde-b4f9-08ebedf9f2e1",
   "metadata": {},
   "outputs": [],
   "source": []
  }
 ],
 "metadata": {
  "kernelspec": {
   "display_name": "Python 3",
   "language": "python",
   "name": "python3"
  },
  "language_info": {
   "codemirror_mode": {
    "name": "ipython",
    "version": 3
   },
   "file_extension": ".py",
   "mimetype": "text/x-python",
   "name": "python",
   "nbconvert_exporter": "python",
   "pygments_lexer": "ipython3",
   "version": "3.8.8"
  }
 },
 "nbformat": 4,
 "nbformat_minor": 5
}
