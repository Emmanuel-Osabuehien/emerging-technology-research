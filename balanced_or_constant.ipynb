{
 "cells": [
  {
   "cell_type": "markdown",
   "id": "5c807575-f6ac-493b-974e-23998c40c949",
   "metadata": {},
   "source": [
    "# Balanced or Constant\n",
    "\n",
    "***"
   ]
  },
  {
   "cell_type": "code",
   "execution_count": 119,
   "id": "22dbb518-397a-4dee-ad1b-0ae6f87df058",
   "metadata": {},
   "outputs": [],
   "source": [
    "# Random selections.\n",
    "import random\n",
    "\n",
    "# Permutations and combinations.\n",
    "import itertools"
   ]
  },
  {
   "cell_type": "markdown",
   "id": "a5e1567e-b68b-424d-84b1-345a590758df",
   "metadata": {},
   "source": [
    "## One bit inputs\n",
    "\n",
    "****"
   ]
  },
  {
   "cell_type": "markdown",
   "id": "9d301879-b0fd-41dd-b59b-d26373d34e28",
   "metadata": {},
   "source": [
    "$x$ is a bit.\n",
    "\n",
    "It's possible values are 0 (false) or 1 (true)"
   ]
  },
  {
   "cell_type": "code",
   "execution_count": 120,
   "id": "33d8ec28-cdad-4d9b-bf23-4188c6e0e7b3",
   "metadata": {},
   "outputs": [],
   "source": [
    "# Constant function.\n",
    "def f_a(x):\n",
    "    return 1"
   ]
  },
  {
   "cell_type": "code",
   "execution_count": 121,
   "id": "4cabbd7f-cbda-44c4-8bf6-6539c6eae435",
   "metadata": {},
   "outputs": [
    {
     "data": {
      "text/plain": [
       "1"
      ]
     },
     "execution_count": 121,
     "metadata": {},
     "output_type": "execute_result"
    }
   ],
   "source": [
    "f_a(0)"
   ]
  },
  {
   "cell_type": "code",
   "execution_count": 122,
   "id": "b0da5062-d0bb-47a4-9e68-6c80ef663824",
   "metadata": {},
   "outputs": [
    {
     "data": {
      "text/plain": [
       "1"
      ]
     },
     "execution_count": 122,
     "metadata": {},
     "output_type": "execute_result"
    }
   ],
   "source": [
    "f_a(1)"
   ]
  },
  {
   "cell_type": "code",
   "execution_count": 123,
   "id": "d9b73066-23ef-4688-a95e-633c88d90a19",
   "metadata": {},
   "outputs": [],
   "source": [
    "# Constant function.\n",
    "def f_b(x):\n",
    "    return 0"
   ]
  },
  {
   "cell_type": "code",
   "execution_count": 124,
   "id": "57470698-fe35-4f0e-a984-d8bd535c202e",
   "metadata": {},
   "outputs": [
    {
     "data": {
      "text/plain": [
       "0"
      ]
     },
     "execution_count": 124,
     "metadata": {},
     "output_type": "execute_result"
    }
   ],
   "source": [
    "f_b(0)"
   ]
  },
  {
   "cell_type": "code",
   "execution_count": 125,
   "id": "08d4645c-e202-4568-bd27-1cb71213044c",
   "metadata": {},
   "outputs": [
    {
     "data": {
      "text/plain": [
       "0"
      ]
     },
     "execution_count": 125,
     "metadata": {},
     "output_type": "execute_result"
    }
   ],
   "source": [
    "f_b(1)"
   ]
  },
  {
   "cell_type": "code",
   "execution_count": 126,
   "id": "764db7fe-3d94-4184-a464-636996e042f7",
   "metadata": {},
   "outputs": [],
   "source": [
    "# Balanced function.\n",
    "def f_c(x):\n",
    "    return x"
   ]
  },
  {
   "cell_type": "code",
   "execution_count": 127,
   "id": "834b61cc-db09-47e9-a079-077d614a8953",
   "metadata": {},
   "outputs": [
    {
     "data": {
      "text/plain": [
       "0"
      ]
     },
     "execution_count": 127,
     "metadata": {},
     "output_type": "execute_result"
    }
   ],
   "source": [
    "f_c(0)"
   ]
  },
  {
   "cell_type": "code",
   "execution_count": 128,
   "id": "6e444275-c9e0-4d4d-889b-fdac4b7426e6",
   "metadata": {},
   "outputs": [
    {
     "data": {
      "text/plain": [
       "1"
      ]
     },
     "execution_count": 128,
     "metadata": {},
     "output_type": "execute_result"
    }
   ],
   "source": [
    "f_c(1)"
   ]
  },
  {
   "cell_type": "code",
   "execution_count": 129,
   "id": "1518657a-a040-4432-81a5-637dad09daac",
   "metadata": {},
   "outputs": [],
   "source": [
    "# Balanced function.\n",
    "def f_d(x):\n",
    "    return ((x + 1) % 2)"
   ]
  },
  {
   "cell_type": "code",
   "execution_count": 130,
   "id": "75824259-3cd4-42b2-bb8f-84db17ced8c5",
   "metadata": {},
   "outputs": [
    {
     "data": {
      "text/plain": [
       "1"
      ]
     },
     "execution_count": 130,
     "metadata": {},
     "output_type": "execute_result"
    }
   ],
   "source": [
    "f_d(0)"
   ]
  },
  {
   "cell_type": "code",
   "execution_count": 131,
   "id": "8ae783a6-5111-4117-9838-42ebf47d43ed",
   "metadata": {},
   "outputs": [
    {
     "data": {
      "text/plain": [
       "0"
      ]
     },
     "execution_count": 131,
     "metadata": {},
     "output_type": "execute_result"
    }
   ],
   "source": [
    "f_d(1)"
   ]
  },
  {
   "cell_type": "markdown",
   "id": "ab428f09-523a-478b-b2cf-8d64be92b3e9",
   "metadata": {},
   "source": [
    "| x | f_a(x) | f_b(x) | f_c(x) | f_d(x) |\n",
    "|---|--------|--------|--------|--------|\n",
    "| **0** |    1   |    0   |    0   |    1   |\n",
    "| **1** |    1   |    0   |    1   |    0   |"
   ]
  },
  {
   "cell_type": "markdown",
   "id": "f209e7df-93fd-4c65-9cf9-4ac4ed8c6ea2",
   "metadata": {},
   "source": [
    "## Pick one of the functions at random \n",
    "\n",
    "****"
   ]
  },
  {
   "cell_type": "code",
   "execution_count": 132,
   "id": "9a1dfd0b-6efa-455b-94e6-5e151f4a46e8",
   "metadata": {},
   "outputs": [],
   "source": [
    "# Put the four functions in a list.\n",
    "funcs = [f_a, f_b, f_c, f_d]"
   ]
  },
  {
   "cell_type": "code",
   "execution_count": 133,
   "id": "d55b4bbd-9b77-4b0e-820f-9195f8c2844b",
   "metadata": {},
   "outputs": [
    {
     "data": {
      "text/plain": [
       "<function __main__.f_b(x)>"
      ]
     },
     "execution_count": 133,
     "metadata": {},
     "output_type": "execute_result"
    }
   ],
   "source": [
    "# Select a function from the list at random.\n",
    "random.choice(funcs)"
   ]
  },
  {
   "cell_type": "code",
   "execution_count": 134,
   "id": "f3a1806a-fbe4-427b-8de7-7c677fd762c2",
   "metadata": {},
   "outputs": [],
   "source": [
    "f = random.choice(funcs)"
   ]
  },
  {
   "cell_type": "markdown",
   "id": "6ea89905-fda4-419d-a903-92cf1e047a0c",
   "metadata": {},
   "source": [
    "## Test for balanced or constant\n",
    "\n",
    "****"
   ]
  },
  {
   "cell_type": "code",
   "execution_count": 135,
   "id": "a0137c66-3605-4184-b93f-d875c0133368",
   "metadata": {},
   "outputs": [
    {
     "data": {
      "text/plain": [
       "0"
      ]
     },
     "execution_count": 135,
     "metadata": {},
     "output_type": "execute_result"
    }
   ],
   "source": [
    "f(0)"
   ]
  },
  {
   "cell_type": "code",
   "execution_count": 136,
   "id": "517ab22b-bc48-4f11-a3bc-2fa4996e019e",
   "metadata": {},
   "outputs": [
    {
     "data": {
      "text/plain": [
       "1"
      ]
     },
     "execution_count": 136,
     "metadata": {},
     "output_type": "execute_result"
    }
   ],
   "source": [
    "f(1)"
   ]
  },
  {
   "cell_type": "markdown",
   "id": "220aa25b-6c79-46af-9ee1-464cb044b357",
   "metadata": {},
   "source": [
    "We had to check 2 inputs to determine whether the function was balanced or constant."
   ]
  },
  {
   "cell_type": "markdown",
   "id": "44165fae-181a-4204-84a5-dca0c1de3616",
   "metadata": {
    "tags": []
   },
   "source": [
    "## Two bits\n",
    "\n",
    "****"
   ]
  },
  {
   "cell_type": "markdown",
   "id": "a1c142ce-231f-4fb5-b00c-e94537b97a9d",
   "metadata": {},
   "source": [
    "| 1x | 2x | f | f | f | f | f | f | f | f | f | f | f | f | f | f | f | f |\n",
    "|----|----|---|---|---|---|---|---|---|---|---|---|---|---|---|---|---|---|\n",
    "| **0**  | **0** | 0 | 0 | 0 | 0 | 0 | 0 | 0 | 0 | 1 | 1 | 1 | 1 | 1 | 1 | 1 | 1 |\n",
    "| **0**  | **1** | 0 | 0 | 0 | 0 | 1 | 1 | 1 | 1 | 0 | 0 | 0 | 0 | 1 | 1 | 1 | 1 |\n",
    "| **1**  | **0** | 0 | 0 | 1 | 1 | 0 | 0 | 1 | 1 | 0 | 0 | 1 | 1 | 0 | 0 | 1 | 1 |\n",
    "| **1**  | **1** | 0 | 1 | 0 | 1 | 0 | 1 | 0 | 1 | 0 | 1 | 0 | 1 | 0 | 1 | 0 | 1 |"
   ]
  },
  {
   "cell_type": "code",
   "execution_count": 137,
   "id": "d4c8a136-1770-493d-a4ff-fc3343e20430",
   "metadata": {},
   "outputs": [],
   "source": [
    "# Number of input bits.\n",
    "n = 2"
   ]
  },
  {
   "cell_type": "code",
   "execution_count": 138,
   "id": "69686d90-fc49-45a9-aaf6-118997dafc25",
   "metadata": {},
   "outputs": [
    {
     "data": {
      "text/plain": [
       "[0, 0, 0, 0]"
      ]
     },
     "execution_count": 138,
     "metadata": {},
     "output_type": "execute_result"
    }
   ],
   "source": [
    "# The zeros constant function.\n",
    "[0] * 2**n"
   ]
  },
  {
   "cell_type": "code",
   "execution_count": 139,
   "id": "9a8c2c74-0986-498f-bfc7-51e38cb5f0e5",
   "metadata": {},
   "outputs": [
    {
     "data": {
      "text/plain": [
       "[1, 1, 1, 1]"
      ]
     },
     "execution_count": 139,
     "metadata": {},
     "output_type": "execute_result"
    }
   ],
   "source": [
    "# The ones constant function.\n",
    "[1] * 2**n"
   ]
  },
  {
   "cell_type": "code",
   "execution_count": 140,
   "id": "059d323a-cafe-41fc-bd10-613e0e89ee4d",
   "metadata": {},
   "outputs": [
    {
     "data": {
      "text/plain": [
       "[[1, 1, 0, 0],\n",
       " [1, 0, 1, 0],\n",
       " [1, 0, 0, 1],\n",
       " [0, 1, 1, 0],\n",
       " [0, 1, 0, 1],\n",
       " [0, 0, 1, 1]]"
      ]
     },
     "execution_count": 140,
     "metadata": {},
     "output_type": "execute_result"
    }
   ],
   "source": [
    "# Generate the balanced functions.\n",
    "# Adapted from https://stackoverflow.com/a/43817007\n",
    "def balanced_functions(noinputbits):\n",
    "    # The length of the list is 2 to power of noinputbits.\n",
    "    size = 2**noinputbits\n",
    "    # The nubmer of ones is half the length of that list.\n",
    "    count = size // 2\n",
    "    # Generate all positions for 1's.\n",
    "    for positions in itertools.combinations(range(size), count):\n",
    "        # Create a list of zeros.\n",
    "        p = [0] * size\n",
    "        # Set positions to 1's.\n",
    "        for i in positions:\n",
    "            p[i] = 1\n",
    "        # Generate the list.\n",
    "        yield p\n",
    "\n",
    "list(balanced_functions(2))"
   ]
  },
  {
   "cell_type": "code",
   "execution_count": 141,
   "id": "d5d4963c-da6b-4c9d-b02d-c660902adcc5",
   "metadata": {},
   "outputs": [],
   "source": [
    "# Generate all the constant and balanced functions.\n",
    "def generate_functions(n):\n",
    "    return list(balanced_functions(n)) + [[0] * 2**n, [1] * 2**n]"
   ]
  },
  {
   "cell_type": "code",
   "execution_count": 142,
   "id": "3821f797-17a6-4827-9703-d341fb40ea0a",
   "metadata": {},
   "outputs": [
    {
     "data": {
      "text/plain": [
       "[[1, 1, 0, 0],\n",
       " [1, 0, 1, 0],\n",
       " [1, 0, 0, 1],\n",
       " [0, 1, 1, 0],\n",
       " [0, 1, 0, 1],\n",
       " [0, 0, 1, 1],\n",
       " [0, 0, 0, 0],\n",
       " [1, 1, 1, 1]]"
      ]
     },
     "execution_count": 142,
     "metadata": {},
     "output_type": "execute_result"
    }
   ],
   "source": [
    "# Generate all functions.\n",
    "generate_functions(n)"
   ]
  },
  {
   "cell_type": "code",
   "execution_count": 143,
   "id": "c563a017-6d71-4c90-b9c8-9c3cfab3ed91",
   "metadata": {
    "tags": []
   },
   "outputs": [],
   "source": [
    "def randomf(n):\n",
    "    # Get all balanced and constant functions as lists.\n",
    "    funcs = generate_functions(n)\n",
    "    # Return a random function as a list.\n",
    "    return random.choice(funcs)"
   ]
  },
  {
   "cell_type": "code",
   "execution_count": 144,
   "id": "6dbe2f45-64ff-4cdd-8a9f-c53f0d61ded4",
   "metadata": {},
   "outputs": [],
   "source": [
    "# Call randomf for two input bits.\n",
    "f = randomf(2)"
   ]
  },
  {
   "cell_type": "code",
   "execution_count": 145,
   "id": "4d8076d7-a3eb-4f37-b642-37408c7d66b4",
   "metadata": {},
   "outputs": [
    {
     "data": {
      "text/plain": [
       "[1, 1, 1, 1]"
      ]
     },
     "execution_count": 145,
     "metadata": {},
     "output_type": "execute_result"
    }
   ],
   "source": [
    "# It's just a list for now.\n",
    "f"
   ]
  },
  {
   "cell_type": "code",
   "execution_count": 146,
   "id": "ed67b1b5-24d2-43f4-8f32-a3dc5a0d42c5",
   "metadata": {},
   "outputs": [],
   "source": [
    "# Let's make it a function.\n",
    "def randomf(n):\n",
    "    # Get all balanced and constant functions as lists.\n",
    "    funcs = generate_functions(n)\n",
    "    # Pick one at random.\n",
    "    retvals = random.choice(funcs)\n",
    "    # Create a function from the list.\n",
    "    def f(*x):\n",
    "        # Reverse the bits.\n",
    "        x = x[::-1]\n",
    "        # Running total for position in list for output bit.\n",
    "        retpos = 0\n",
    "        # Loop through the elements in x (reversed).\n",
    "        for i in range(len(x)):\n",
    "            # Multiply i pos of x by 2^i.\n",
    "            retpos = retpos + (x[i] * 2**i)\n",
    "        # List position.\n",
    "        return retvals[retpos]\n",
    "    # Function returns a function.\n",
    "    return f"
   ]
  },
  {
   "cell_type": "code",
   "execution_count": 147,
   "id": "38dc5873-13ef-450b-a3e9-827916f83d7a",
   "metadata": {},
   "outputs": [
    {
     "data": {
      "text/plain": [
       "<function __main__.randomf.<locals>.f(*x)>"
      ]
     },
     "execution_count": 147,
     "metadata": {},
     "output_type": "execute_result"
    }
   ],
   "source": [
    "# Get a random function that takes two bits as input.\n",
    "randomf(2)"
   ]
  },
  {
   "cell_type": "code",
   "execution_count": 148,
   "id": "e306e79d-d7de-43c0-badc-880b4ef82311",
   "metadata": {},
   "outputs": [],
   "source": [
    "# Get a random function that takes two bits as input.\n",
    "f = randomf(2)"
   ]
  },
  {
   "cell_type": "code",
   "execution_count": 149,
   "id": "fb768c4b-9545-4068-86de-24f5add28f56",
   "metadata": {},
   "outputs": [
    {
     "data": {
      "text/plain": [
       "0"
      ]
     },
     "execution_count": 149,
     "metadata": {},
     "output_type": "execute_result"
    }
   ],
   "source": [
    "# Sample calls.\n",
    "f(1, 1)"
   ]
  },
  {
   "cell_type": "code",
   "execution_count": 150,
   "id": "6cd9e886-a726-4d35-a55f-3e96efc4d445",
   "metadata": {},
   "outputs": [
    {
     "data": {
      "text/plain": [
       "1"
      ]
     },
     "execution_count": 150,
     "metadata": {},
     "output_type": "execute_result"
    }
   ],
   "source": [
    "# Sample calls.\n",
    "f(0, 1)"
   ]
  },
  {
   "cell_type": "markdown",
   "id": "20d12199-e232-4236-910b-8eefe009d107",
   "metadata": {},
   "source": [
    "## Classical Algorithm\n",
    "\n",
    "****"
   ]
  },
  {
   "cell_type": "code",
   "execution_count": 151,
   "id": "500f7507-62e6-487a-8a97-e705ca050fe0",
   "metadata": {},
   "outputs": [],
   "source": [
    "# Number of input bits.\n",
    "n = 2"
   ]
  },
  {
   "cell_type": "code",
   "execution_count": 152,
   "id": "ab571961-8e49-49ef-add0-ae0f810d67d9",
   "metadata": {},
   "outputs": [],
   "source": [
    "# Generate a random constant or balanced function\n",
    "# with n in put bits.\n",
    "f = randomf(n)"
   ]
  },
  {
   "cell_type": "code",
   "execution_count": 153,
   "id": "5584233f-e492-4c81-b146-4ea6c6797b8f",
   "metadata": {},
   "outputs": [
    {
     "data": {
      "text/plain": [
       "[(0, 0), (0, 1), (1, 0), (1, 1)]"
      ]
     },
     "execution_count": 153,
     "metadata": {},
     "output_type": "execute_result"
    }
   ],
   "source": [
    "# Adapted from: https://stackoverflow.com/a/35313967\n",
    "list(itertools.product(*[(0, 1)] * n))"
   ]
  },
  {
   "cell_type": "code",
   "execution_count": 154,
   "id": "f64d1eba-9278-47ca-ac53-a334caf19692",
   "metadata": {},
   "outputs": [],
   "source": [
    "def balanced_or_constant(f, n):\n",
    "    # Presume f is constant.\n",
    "    constant = True\n",
    "    # Last returned value.\n",
    "    last = None\n",
    "    # Keep track of number of iterations.\n",
    "    i = 0\n",
    "    # Loop through all possible inputs.\n",
    "    for inputs in itertools.product(*[(0, 1)] * n):\n",
    "        # Try this input on f.\n",
    "        current = f(*inputs)\n",
    "        # Print a debug message.\n",
    "        print(f\"Trying: {inputs}  Return: {current}  Last: {last}\")\n",
    "        # Compare last to current.\n",
    "        if last is not None and current != last:\n",
    "            # Tell the user f is balanced.\n",
    "            constant = False\n",
    "            break\n",
    "        last = current\n",
    "        # Increment the iteration count.\n",
    "        i = i + 1\n",
    "        # Have we performed 2**(n-1) + 1 iterations.\n",
    "        if i > 2**(n-1):\n",
    "            break\n",
    "    if constant:\n",
    "        print(\"Constant\")\n",
    "    else:\n",
    "        print(\"Balanced\")"
   ]
  },
  {
   "cell_type": "code",
   "execution_count": 155,
   "id": "e1fb842b-bf2d-4843-919d-7760fe027d12",
   "metadata": {},
   "outputs": [
    {
     "name": "stdout",
     "output_type": "stream",
     "text": [
      "Trying: (0, 0)  Return: 0  Last: None\n",
      "Trying: (0, 1)  Return: 0  Last: 0\n",
      "Trying: (1, 0)  Return: 0  Last: 0\n",
      "Constant\n"
     ]
    }
   ],
   "source": [
    "balanced_or_constant(f, n)"
   ]
  },
  {
   "cell_type": "markdown",
   "id": "80d7b23a-375b-472d-a9ac-281519625dfd",
   "metadata": {
    "tags": []
   },
   "source": [
    "## More than two bits\n",
    "\n",
    "****"
   ]
  },
  {
   "cell_type": "code",
   "execution_count": 156,
   "id": "a57c554a-67a7-4f26-98eb-1615ab1757c9",
   "metadata": {},
   "outputs": [],
   "source": [
    "# Five input bits.\n",
    "n = 4"
   ]
  },
  {
   "cell_type": "code",
   "execution_count": 157,
   "id": "ae33e16d-1676-4fa5-a283-231435034a10",
   "metadata": {},
   "outputs": [],
   "source": [
    "# Generate random function.\n",
    "f = randomf(n)"
   ]
  },
  {
   "cell_type": "code",
   "execution_count": 158,
   "id": "98fdf3a3-6417-4dcf-9b4f-bd555c152c8e",
   "metadata": {},
   "outputs": [
    {
     "name": "stdout",
     "output_type": "stream",
     "text": [
      "Trying: (0, 0, 0, 0)  Return: 0  Last: None\n",
      "Trying: (0, 0, 0, 1)  Return: 1  Last: 0\n",
      "Balanced\n"
     ]
    }
   ],
   "source": [
    "# Test if balanced.\n",
    "balanced_or_constant(f, n)"
   ]
  },
  {
   "cell_type": "markdown",
   "id": "364ff94f-faf2-4449-b9ab-f2eba7f9ec63",
   "metadata": {},
   "source": [
    "***\n",
    "\n",
    "## End"
   ]
  }
 ],
 "metadata": {
  "kernelspec": {
   "display_name": "Python 3 (ipykernel)",
   "language": "python",
   "name": "python3"
  },
  "language_info": {
   "codemirror_mode": {
    "name": "ipython",
    "version": 3
   },
   "file_extension": ".py",
   "mimetype": "text/x-python",
   "name": "python",
   "nbconvert_exporter": "python",
   "pygments_lexer": "ipython3",
   "version": "3.8.12"
  }
 },
 "nbformat": 4,
 "nbformat_minor": 5
}
